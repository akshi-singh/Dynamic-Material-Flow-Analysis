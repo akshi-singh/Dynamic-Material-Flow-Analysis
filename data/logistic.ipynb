{
 "cells": [
  {
   "cell_type": "code",
   "execution_count": null,
   "id": "3b39536a-30ec-4bf3-bd3b-7215b7c8c9d0",
   "metadata": {},
   "outputs": [],
   "source": [
    "# Logistic fit for vehicle per capita\n",
    "import numpy as np\n",
    "def logistic(x,ti,tau,P0,P1):\n",
    "    \"\"\"\n",
    "    ti: inflection time\n",
    "    K: transition time coefficient\n",
    "    C0: start value\n",
    "    C1: end value\n",
    "    x: vector of observation points (time)\n",
    "    \"\"\"\n",
    "\n",
    "    return (P1 - P0)/(1 + np.exp(-(x - ti) / K)) + P0  "
   ]
  }
 ],
 "metadata": {
  "kernelspec": {
   "display_name": "Python [conda env:base] *",
   "language": "python",
   "name": "conda-base-py"
  },
  "language_info": {
   "codemirror_mode": {
    "name": "ipython",
    "version": 3
   },
   "file_extension": ".py",
   "mimetype": "text/x-python",
   "name": "python",
   "nbconvert_exporter": "python",
   "pygments_lexer": "ipython3",
   "version": "3.12.7"
  }
 },
 "nbformat": 4,
 "nbformat_minor": 5
}
